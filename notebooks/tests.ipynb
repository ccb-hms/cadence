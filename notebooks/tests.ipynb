{
 "cells": [
  {
   "cell_type": "markdown",
   "id": "f78818bd-644e-4833-8dae-521441ef1d30",
   "metadata": {},
   "source": [
    "### Tests for the cadence module ###"
   ]
  },
  {
   "cell_type": "code",
   "execution_count": 1,
   "id": "b6880e81-fcdb-4813-b4f8-f88598779d3b",
   "metadata": {},
   "outputs": [],
   "source": [
    "import pytest\n",
    "import os\n",
    "from tempfile import TemporaryDirectory\n",
    "from cadence.utils import FileOP"
   ]
  },
  {
   "cell_type": "code",
   "execution_count": 4,
   "id": "94f189d1-3fbd-4b13-91fe-1dfb7095639f",
   "metadata": {},
   "outputs": [],
   "source": [
    "def test_download():\n",
    "    \"\"\" Download the CCB member file \"\"\"\n",
    "    group_members_file_name = 'ccb_members_2025.xlsx'\n",
    "    url_base = 'https://dsets.s3.us-east-1.amazonaws.com'\n",
    "    url = os.path.join(url_base, group_members_file_name)\n",
    "    with TemporaryDirectory() as download_dir:\n",
    "        file = FileOP().download_from_url(url=url, download_dir=download_dir, ext_list=['.xlsx'])\n",
    "        assert os.path.basename(file) == group_members_file_name"
   ]
  },
  {
   "cell_type": "code",
   "execution_count": 5,
   "id": "502c33ab-a3a7-477b-a51c-2908be07b304",
   "metadata": {},
   "outputs": [
    {
     "name": "stderr",
     "output_type": "stream",
     "text": [
      "ccb_members_2025a.xlsx: 0.00B [00:00, ?B/s]\n",
      "Download failed for URL: https://dsets.s3.us-east-1.amazonaws.com/ccb_members_2025a.xlsx HTTP Error 403: Forbidden\n"
     ]
    },
    {
     "name": "stdout",
     "output_type": "stream",
     "text": [
      "HTTP Error 403: Forbidden\n"
     ]
    }
   ],
   "source": [
    "test_download()"
   ]
  }
 ],
 "metadata": {
  "kernelspec": {
   "display_name": "Python 3 (ipykernel)",
   "language": "python",
   "name": "python3"
  },
  "language_info": {
   "codemirror_mode": {
    "name": "ipython",
    "version": 3
   },
   "file_extension": ".py",
   "mimetype": "text/x-python",
   "name": "python",
   "nbconvert_exporter": "python",
   "pygments_lexer": "ipython3",
   "version": "3.12.10"
  }
 },
 "nbformat": 4,
 "nbformat_minor": 5
}
