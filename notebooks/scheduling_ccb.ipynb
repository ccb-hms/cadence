{
 "cells": [
  {
   "cell_type": "markdown",
   "id": "a5c3706d-80cd-4f14-a6ab-054dd5856564",
   "metadata": {
    "tags": []
   },
   "source": [
    "### Use case notebook: schedule CCB team meetings ###"
   ]
  },
  {
   "cell_type": "code",
   "execution_count": null,
   "id": "d46f5a47-bae0-4947-97e9-c204eaeb0edf",
   "metadata": {},
   "outputs": [],
   "source": [
    "import os\n",
    "import glob\n",
    "import numpy as np\n",
    "\n",
    "# There is a warning in the timeboard library that we want to suppress here\n",
    "import warnings\n",
    "warnings.simplefilter(action='ignore', category=FutureWarning)\n",
    "\n",
    "import pandas as pd\n",
    "from pathlib import Path\n",
    "import time\n",
    "import timeboard as tb\n",
    "import timeboard.calendars.US as US\n",
    "import datetime\n",
    "import holidays\n",
    "\n",
    "# Appearance of the Notebook\n",
    "from IPython.display import display, HTML\n",
    "display(HTML(\"<style>.container { width:100% !important; }</style>\"))\n",
    "\n",
    "# Import the package\n",
    "%load_ext autoreload\n",
    "%autoreload 2\n",
    "import cadence\n",
    "from cadence.utils import FileOP\n",
    "from cadence.mscheduler import Meetings\n",
    "print(f'Package version: {cadence.__version__}')"
   ]
  },
  {
   "cell_type": "markdown",
   "id": "1603b872-3201-4eac-b0f6-026a8bcd6b7a",
   "metadata": {},
   "source": [
    "### Meeting participants and settings ###"
   ]
  },
  {
   "cell_type": "code",
   "execution_count": null,
   "id": "e44ad800-ec7b-4c5e-8324-394d80241a57",
   "metadata": {},
   "outputs": [],
   "source": [
    "# Local data\n",
    "data_dir = os.path.join(os.environ.get('HOME'), 'data')\n",
    "link = 'https://dsets.s3.amazonaws.com/ccb_names_list.csv'\n",
    "team = FileOP().download_from_url(url=link, download_dir=data_dir)\n",
    "tm_raw = pd.read_csv(ccb_names_file)\n",
    "display(tm_raw)"
   ]
  },
  {
   "cell_type": "markdown",
   "id": "dd43c904-ab9d-4223-8689-e28c9f26534d",
   "metadata": {},
   "source": [
    "### Cleanup of the spreadsheet ###\n",
    "Just in case that was not done. To provide a consistent look."
   ]
  },
  {
   "cell_type": "code",
   "execution_count": null,
   "id": "26995a66-c17c-4f9a-8be5-7d2d436eb343",
   "metadata": {},
   "outputs": [],
   "source": [
    "email_col = 'email'\n",
    "name_col = 'name'\n",
    "group_col = 'group'\n",
    "\n",
    "# Lets do some cleanup of the spreadsheet\n",
    "# small letters for the column names\n",
    "tm = tm_raw.copy()\n",
    "tm.columns = [col.lower() for col in tm.columns]\n",
    "\n",
    "# small letters for emails and group, first letter capitalize for names\n",
    "tm[email_col] = tm[email_col].str.lower()\n",
    "tm[group_col] = tm[group_col].str.lower()\n",
    "tm[name_col] = tm[name_col].str.title()\n",
    "\n",
    "# Sort by group and then name\n",
    "tm = tm.sort_values(by=['group', 'name'], ascending=True).reset_index(drop=True)\n",
    "\n",
    "# Mark names that are not presenting\n",
    "rm_name = ['nathan', 'ludwig']\n",
    "rm_name = [nm.title() for nm in rm_name]\n",
    "tm = tm.assign(presenting=True)\n",
    "tm.loc[tm['name'].isin(rm_name), 'presenting'] = False\n",
    "\n",
    "# save the name ist as a csv_file\n",
    "presenter_list_file_name = f'{os.path.splitext(group_members_file_name)[0]}_list.csv'\n",
    "presenter_list_file = os.path.join(data_dir, presenter_list_file_name)\n",
    "tm.to_csv(presenter_list_file, index=False)\n",
    "display(tm)"
   ]
  },
  {
   "cell_type": "code",
   "execution_count": null,
   "id": "21c8867d-f729-45d2-8cb5-79ac403091e7",
   "metadata": {},
   "outputs": [],
   "source": [
    "# Remove the names that we do not want in the schedule\n",
    "presenters_df = tm.loc[tm['presenting']==True]\n",
    "display(presenters_df)"
   ]
  },
  {
   "cell_type": "markdown",
   "id": "5b9b9731-e7e0-4783-98eb-adec6200704e",
   "metadata": {},
   "source": [
    "### Shuffle the data and create a presenter list ###"
   ]
  },
  {
   "cell_type": "code",
   "execution_count": null,
   "id": "ef798fa2-5ebb-4188-9d02-dbf4fcf4f64d",
   "metadata": {},
   "outputs": [],
   "source": [
    "# Let's do a random shuffling of the data frame\n",
    "random_state = 984\n",
    "presenters_df_shuffled = presenters_df.sample(frac=1, random_state=random_state)\n",
    "\n",
    "# Get the names and the groups from the new data frame\n",
    "name_list = list(presenters_df['name'].values)\n",
    "group_list = list(presenters_df['group'].values)\n",
    "\n",
    "# Instantiate the Meetings class with the list of names and groups from the data frame\n",
    "meet = Meetings(name_list=name_list, group_list=group_list)\n",
    "\n",
    "# We create a presenter list by merging the groups so that we have a member from a different group presenting each time\n",
    "presenter_list = meet.create_name_sequence()\n",
    "print(presenter_list)\n",
    "display(meet.name_df)"
   ]
  },
  {
   "cell_type": "markdown",
   "id": "00d78e53-6d3d-4076-a538-61e413c3df44",
   "metadata": {},
   "source": [
    "### Manipulate the sequence of presenters ###"
   ]
  },
  {
   "cell_type": "code",
   "execution_count": null,
   "id": "413608df-85f8-498b-be75-a44d7aafe047",
   "metadata": {},
   "outputs": [],
   "source": [
    "presenter_list = list(meet.name_df['name'].values)\n",
    "print(presenter_list)\n",
    "\n",
    "# If we don't like this sequence, we can create a new one\n",
    "new_presenter_list = ['Gerald', 'Grey', 'Sam', 'Tyrone', 'Sreya', 'Tram', 'Andreas', 'Anthony', 'Andrew']\n",
    "print(new_presenter_list)\n",
    "\n",
    "# We can replace the list of presenters with our new one. Just make sure that the names match.\n",
    "new_presenter_list = meet.create_name_sequence(name_sequence=new_presenter_list, merge_groups=False)\n",
    "print(new_presenter_list)\n",
    "\n",
    "# We can see, that the internal data frame with the group associations has changed according to the new list\n",
    "print()\n",
    "display(meet.name_df)"
   ]
  },
  {
   "cell_type": "markdown",
   "id": "58599ad2-6b99-4b0b-9119-2827fb62c596",
   "metadata": {},
   "source": [
    "### Create the meeting schedule ###"
   ]
  },
  {
   "cell_type": "code",
   "execution_count": null,
   "id": "fd557628-4653-4053-85e3-00f2c7051d49",
   "metadata": {},
   "outputs": [],
   "source": [
    "start_date = '2024-08-28'\n",
    "end_date = '2024-12-31'\n",
    "\n",
    "cal = meet.create_timeboard(start_date=start_date, \n",
    "                            end_date=end_date,\n",
    "                            start_name='Gerald')\n",
    "\n",
    "skip_date = '2024-08-28'\n",
    "skip_name = 'Everyone'\n",
    "skip_comment = 'Repos, best practices discussion'\n",
    "\n",
    "cal = meet.skip_date(cal_df=cal, \n",
    "                     date=skip_date, \n",
    "                     comment=skip_comment,\n",
    "                     name=skip_name)\n",
    "\n",
    "display(cal)"
   ]
  },
  {
   "cell_type": "code",
   "execution_count": null,
   "id": "0f3f0be3-ab4e-49b1-8ce6-c5289fa3a36c",
   "metadata": {},
   "outputs": [],
   "source": [
    "# Save the presentation schedule\n",
    "save_cols = ['date', 'name', 'comment']\n",
    "schedule_name = f'ccb_presentations_2024.csv'\n",
    "schedule_file = os.path.join(data_dir, schedule_name)\n",
    "cal[save_cols].to_csv(schedule_file, index=False)\n",
    "display(cal[save_cols])"
   ]
  }
 ],
 "metadata": {
  "kernelspec": {
   "display_name": "Python 3 (ipykernel)",
   "language": "python",
   "name": "python3"
  },
  "language_info": {
   "codemirror_mode": {
    "name": "ipython",
    "version": 3
   },
   "file_extension": ".py",
   "mimetype": "text/x-python",
   "name": "python",
   "nbconvert_exporter": "python",
   "pygments_lexer": "ipython3",
   "version": "3.11.9"
  }
 },
 "nbformat": 4,
 "nbformat_minor": 5
}
