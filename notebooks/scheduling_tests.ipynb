{
 "cells": [
  {
   "cell_type": "markdown",
   "id": "8fc78506-f719-488b-a810-605c4b951448",
   "metadata": {},
   "source": [
    "## Test cases for the Cadence package ##"
   ]
  },
  {
   "cell_type": "code",
   "execution_count": 1,
   "id": "8336009e-52a5-4e34-bf6e-ce728d8e525e",
   "metadata": {},
   "outputs": [
    {
     "data": {
      "text/html": [
       "<style>.container { width:100% !important; }</style>"
      ],
      "text/plain": [
       "<IPython.core.display.HTML object>"
      ]
     },
     "metadata": {},
     "output_type": "display_data"
    },
    {
     "name": "stdout",
     "output_type": "stream",
     "text": [
      "Package version: 0.0.2.post1.dev1+g6f23dc2.d20240825\n"
     ]
    }
   ],
   "source": [
    "import sys\n",
    "import os\n",
    "import pandas as pd\n",
    "import numpy as np\n",
    "\n",
    "\n",
    "# There is a warning in the timeboard library that we want to suppress here\n",
    "import warnings\n",
    "warnings.simplefilter(action='ignore', category=FutureWarning)\n",
    "\n",
    "# Appearance of the Notebook\n",
    "from IPython.display import display, HTML\n",
    "display(HTML(\"<style>.container { width:100% !important; }</style>\"))\n",
    "\n",
    "# Import the package\n",
    "%load_ext autoreload\n",
    "%autoreload 2\n",
    "import cadence\n",
    "from cadence.mscheduler import Meetings\n",
    "from cadence.utils import GroupFaker\n",
    "print(f'Package version: {cadence.__version__}')"
   ]
  },
  {
   "cell_type": "code",
   "execution_count": 7,
   "id": "83854e69-f063-4274-81c0-80f035571b4b",
   "metadata": {},
   "outputs": [
    {
     "data": {
      "text/html": [
       "<div>\n",
       "<style scoped>\n",
       "    .dataframe tbody tr th:only-of-type {\n",
       "        vertical-align: middle;\n",
       "    }\n",
       "\n",
       "    .dataframe tbody tr th {\n",
       "        vertical-align: top;\n",
       "    }\n",
       "\n",
       "    .dataframe thead th {\n",
       "        text-align: right;\n",
       "    }\n",
       "</style>\n",
       "<table border=\"1\" class=\"dataframe\">\n",
       "  <thead>\n",
       "    <tr style=\"text-align: right;\">\n",
       "      <th></th>\n",
       "      <th>name</th>\n",
       "      <th>first_name</th>\n",
       "      <th>last_name</th>\n",
       "      <th>group</th>\n",
       "    </tr>\n",
       "  </thead>\n",
       "  <tbody>\n",
       "    <tr>\n",
       "      <th>0</th>\n",
       "      <td>Brandon Russell</td>\n",
       "      <td>Brandon</td>\n",
       "      <td>Russell</td>\n",
       "      <td>group_0</td>\n",
       "    </tr>\n",
       "    <tr>\n",
       "      <th>1</th>\n",
       "      <td>Charles Tyler</td>\n",
       "      <td>Charles</td>\n",
       "      <td>Tyler</td>\n",
       "      <td>group_0</td>\n",
       "    </tr>\n",
       "    <tr>\n",
       "      <th>2</th>\n",
       "      <td>Evelyn Christian</td>\n",
       "      <td>Evelyn</td>\n",
       "      <td>Christian</td>\n",
       "      <td>group_0</td>\n",
       "    </tr>\n",
       "    <tr>\n",
       "      <th>3</th>\n",
       "      <td>Kyle Jones</td>\n",
       "      <td>Kyle</td>\n",
       "      <td>Jones</td>\n",
       "      <td>group_0</td>\n",
       "    </tr>\n",
       "    <tr>\n",
       "      <th>4</th>\n",
       "      <td>Thomas Berry</td>\n",
       "      <td>Thomas</td>\n",
       "      <td>Berry</td>\n",
       "      <td>group_0</td>\n",
       "    </tr>\n",
       "    <tr>\n",
       "      <th>5</th>\n",
       "      <td>Aaron Graham</td>\n",
       "      <td>Aaron</td>\n",
       "      <td>Graham</td>\n",
       "      <td>group_1</td>\n",
       "    </tr>\n",
       "    <tr>\n",
       "      <th>6</th>\n",
       "      <td>George Cook</td>\n",
       "      <td>George</td>\n",
       "      <td>Cook</td>\n",
       "      <td>group_1</td>\n",
       "    </tr>\n",
       "    <tr>\n",
       "      <th>7</th>\n",
       "      <td>Jerome Whitehead</td>\n",
       "      <td>Jerome</td>\n",
       "      <td>Whitehead</td>\n",
       "      <td>group_1</td>\n",
       "    </tr>\n",
       "    <tr>\n",
       "      <th>8</th>\n",
       "      <td>Steven Johnson</td>\n",
       "      <td>Steven</td>\n",
       "      <td>Johnson</td>\n",
       "      <td>group_1</td>\n",
       "    </tr>\n",
       "  </tbody>\n",
       "</table>\n",
       "</div>"
      ],
      "text/plain": [
       "               name first_name  last_name    group\n",
       "0   Brandon Russell    Brandon    Russell  group_0\n",
       "1     Charles Tyler    Charles      Tyler  group_0\n",
       "2  Evelyn Christian     Evelyn  Christian  group_0\n",
       "3        Kyle Jones       Kyle      Jones  group_0\n",
       "4      Thomas Berry     Thomas      Berry  group_0\n",
       "5      Aaron Graham      Aaron     Graham  group_1\n",
       "6       George Cook     George       Cook  group_1\n",
       "7  Jerome Whitehead     Jerome  Whitehead  group_1\n",
       "8    Steven Johnson     Steven    Johnson  group_1"
      ]
     },
     "metadata": {},
     "output_type": "display_data"
    }
   ],
   "source": [
    "gf = GroupFaker(n_members=9, n_groups=2)\n",
    "my_group = gf.create_fake_research_group()\n",
    "display(my_group)\n",
    "assert my_group.shape == (9, 4)"
   ]
  },
  {
   "cell_type": "code",
   "execution_count": 6,
   "id": "211afb83-f5fd-4492-a706-dec75fffae53",
   "metadata": {},
   "outputs": [
    {
     "data": {
      "text/plain": [
       "(9, 4)"
      ]
     },
     "execution_count": 6,
     "metadata": {},
     "output_type": "execute_result"
    }
   ],
   "source": [
    "my_group.shape"
   ]
  }
 ],
 "metadata": {
  "kernelspec": {
   "display_name": "Python 3 (ipykernel)",
   "language": "python",
   "name": "python3"
  },
  "language_info": {
   "codemirror_mode": {
    "name": "ipython",
    "version": 3
   },
   "file_extension": ".py",
   "mimetype": "text/x-python",
   "name": "python",
   "nbconvert_exporter": "python",
   "pygments_lexer": "ipython3",
   "version": "3.11.9"
  }
 },
 "nbformat": 4,
 "nbformat_minor": 5
}
