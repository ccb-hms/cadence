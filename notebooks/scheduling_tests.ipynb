{
 "cells": [
  {
   "cell_type": "markdown",
   "id": "8fc78506-f719-488b-a810-605c4b951448",
   "metadata": {},
   "source": [
    "## Test cases for the Cadence package ##"
   ]
  },
  {
   "cell_type": "code",
   "execution_count": 4,
   "id": "8336009e-52a5-4e34-bf6e-ce728d8e525e",
   "metadata": {},
   "outputs": [
    {
     "data": {
      "text/html": [
       "<style>.container { width:100% !important; }</style>"
      ],
      "text/plain": [
       "<IPython.core.display.HTML object>"
      ]
     },
     "metadata": {},
     "output_type": "display_data"
    },
    {
     "name": "stdout",
     "output_type": "stream",
     "text": [
      "Package version: 0.0.2.post1.dev1+g6f23dc2.d20240825\n"
     ]
    }
   ],
   "source": [
    "import sys\n",
    "import os\n",
    "import pandas as pd\n",
    "import numpy as np\n",
    "\n",
    "\n",
    "# There is a warning in the timeboard library that we want to suppress here\n",
    "import warnings\n",
    "warnings.simplefilter(action='ignore', category=FutureWarning)\n",
    "\n",
    "# Appearance of the Notebook\n",
    "from IPython.display import display, HTML\n",
    "display(HTML(\"<style>.container { width:100% !important; }</style>\"))\n",
    "\n",
    "# Import the package\n",
    "%load_ext autoreload\n",
    "%autoreload 2\n",
    "import cadence\n",
    "from cadence.mscheduler import Meetings\n",
    "print(f'Package version: {cadence.__version__}')"
   ]
  },
  {
   "cell_type": "code",
   "execution_count": null,
   "id": "83854e69-f063-4274-81c0-80f035571b4b",
   "metadata": {},
   "outputs": [],
   "source": []
  }
 ],
 "metadata": {
  "kernelspec": {
   "display_name": "Python 3 (ipykernel)",
   "language": "python",
   "name": "python3"
  },
  "language_info": {
   "codemirror_mode": {
    "name": "ipython",
    "version": 3
   },
   "file_extension": ".py",
   "mimetype": "text/x-python",
   "name": "python",
   "nbconvert_exporter": "python",
   "pygments_lexer": "ipython3",
   "version": "3.11.9"
  }
 },
 "nbformat": 4,
 "nbformat_minor": 5
}
